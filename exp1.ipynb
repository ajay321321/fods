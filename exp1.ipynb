{
 "cells": [
  {
   "cell_type": "code",
   "execution_count": 1,
   "id": "b953d4be-5032-4239-a66b-34016dcfb3f6",
   "metadata": {
    "editable": true,
    "slideshow": {
     "slide_type": ""
    },
    "tags": []
   },
   "outputs": [],
   "source": [
    "import numpy as np\n",
    "import pandas as pd"
   ]
  },
  {
   "cell_type": "code",
   "execution_count": 2,
   "id": "7db76118-f8df-4c8b-9e71-dc08872ac666",
   "metadata": {},
   "outputs": [],
   "source": [
    "Employee_data = pd.DataFrame({'EmployeeID': [101,102,103,104,105],'Name':['Alice', 'Bob', 'Charlie', 'David', 'Eva'],'Department':['HR','IT','Finance','IT','HR'],'Salary':[50000,60000,55000,65000,58000]})"
   ]
  },
  {
   "cell_type": "code",
   "execution_count": 3,
   "id": "799ad3ec-6dc9-4ccb-91c7-b89758247c8f",
   "metadata": {},
   "outputs": [
    {
     "data": {
      "text/html": [
       "<div>\n",
       "<style scoped>\n",
       "    .dataframe tbody tr th:only-of-type {\n",
       "        vertical-align: middle;\n",
       "    }\n",
       "\n",
       "    .dataframe tbody tr th {\n",
       "        vertical-align: top;\n",
       "    }\n",
       "\n",
       "    .dataframe thead th {\n",
       "        text-align: right;\n",
       "    }\n",
       "</style>\n",
       "<table border=\"1\" class=\"dataframe\">\n",
       "  <thead>\n",
       "    <tr style=\"text-align: right;\">\n",
       "      <th></th>\n",
       "      <th>EmployeeID</th>\n",
       "      <th>Name</th>\n",
       "      <th>Department</th>\n",
       "      <th>Salary</th>\n",
       "    </tr>\n",
       "  </thead>\n",
       "  <tbody>\n",
       "    <tr>\n",
       "      <th>0</th>\n",
       "      <td>101</td>\n",
       "      <td>Alice</td>\n",
       "      <td>HR</td>\n",
       "      <td>50000</td>\n",
       "    </tr>\n",
       "    <tr>\n",
       "      <th>1</th>\n",
       "      <td>102</td>\n",
       "      <td>Bob</td>\n",
       "      <td>IT</td>\n",
       "      <td>60000</td>\n",
       "    </tr>\n",
       "    <tr>\n",
       "      <th>2</th>\n",
       "      <td>103</td>\n",
       "      <td>Charlie</td>\n",
       "      <td>Finance</td>\n",
       "      <td>55000</td>\n",
       "    </tr>\n",
       "    <tr>\n",
       "      <th>3</th>\n",
       "      <td>104</td>\n",
       "      <td>David</td>\n",
       "      <td>IT</td>\n",
       "      <td>65000</td>\n",
       "    </tr>\n",
       "    <tr>\n",
       "      <th>4</th>\n",
       "      <td>105</td>\n",
       "      <td>Eva</td>\n",
       "      <td>HR</td>\n",
       "      <td>58000</td>\n",
       "    </tr>\n",
       "  </tbody>\n",
       "</table>\n",
       "</div>"
      ],
      "text/plain": [
       "   EmployeeID     Name Department  Salary\n",
       "0         101    Alice         HR   50000\n",
       "1         102      Bob         IT   60000\n",
       "2         103  Charlie    Finance   55000\n",
       "3         104    David         IT   65000\n",
       "4         105      Eva         HR   58000"
      ]
     },
     "execution_count": 3,
     "metadata": {},
     "output_type": "execute_result"
    }
   ],
   "source": [
    "Employee_data"
   ]
  },
  {
   "cell_type": "code",
   "execution_count": 4,
   "id": "fa6bc6ce-3c71-4ab6-a4ce-b9b90f710a50",
   "metadata": {},
   "outputs": [
    {
     "data": {
      "text/html": [
       "<div>\n",
       "<style scoped>\n",
       "    .dataframe tbody tr th:only-of-type {\n",
       "        vertical-align: middle;\n",
       "    }\n",
       "\n",
       "    .dataframe tbody tr th {\n",
       "        vertical-align: top;\n",
       "    }\n",
       "\n",
       "    .dataframe thead th {\n",
       "        text-align: right;\n",
       "    }\n",
       "</style>\n",
       "<table border=\"1\" class=\"dataframe\">\n",
       "  <thead>\n",
       "    <tr style=\"text-align: right;\">\n",
       "      <th></th>\n",
       "      <th>Name</th>\n",
       "      <th>Salary</th>\n",
       "    </tr>\n",
       "  </thead>\n",
       "  <tbody>\n",
       "    <tr>\n",
       "      <th>0</th>\n",
       "      <td>Alice</td>\n",
       "      <td>50000</td>\n",
       "    </tr>\n",
       "    <tr>\n",
       "      <th>1</th>\n",
       "      <td>Bob</td>\n",
       "      <td>60000</td>\n",
       "    </tr>\n",
       "    <tr>\n",
       "      <th>2</th>\n",
       "      <td>Charlie</td>\n",
       "      <td>55000</td>\n",
       "    </tr>\n",
       "    <tr>\n",
       "      <th>3</th>\n",
       "      <td>David</td>\n",
       "      <td>65000</td>\n",
       "    </tr>\n",
       "    <tr>\n",
       "      <th>4</th>\n",
       "      <td>Eva</td>\n",
       "      <td>58000</td>\n",
       "    </tr>\n",
       "  </tbody>\n",
       "</table>\n",
       "</div>"
      ],
      "text/plain": [
       "      Name  Salary\n",
       "0    Alice   50000\n",
       "1      Bob   60000\n",
       "2  Charlie   55000\n",
       "3    David   65000\n",
       "4      Eva   58000"
      ]
     },
     "execution_count": 4,
     "metadata": {},
     "output_type": "execute_result"
    }
   ],
   "source": [
    "Employee_data[['Name','Salary']]\n"
   ]
  },
  {
   "cell_type": "code",
   "execution_count": 5,
   "id": "434d4ae5-c057-4e3e-8e04-b6d17951403a",
   "metadata": {},
   "outputs": [],
   "source": [
    "it_employees = Employee_data[Employee_data['Department'] == 'IT']\n",
    "\n",
    "average_salary = it_employees['Salary'].mean()"
   ]
  },
  {
   "cell_type": "code",
   "execution_count": 6,
   "id": "e3ecda41-2dff-4279-bfe5-dd60f42873e0",
   "metadata": {},
   "outputs": [
    {
     "data": {
      "text/plain": [
       "62500.0"
      ]
     },
     "execution_count": 6,
     "metadata": {},
     "output_type": "execute_result"
    }
   ],
   "source": [
    "average_salary "
   ]
  },
  {
   "cell_type": "code",
   "execution_count": 7,
   "id": "7534beb8-6e1a-40f3-819a-69e57aa7c7d2",
   "metadata": {},
   "outputs": [],
   "source": [
    "Employee_data['Bonus'] = Employee_data['Salary'] * 0.10"
   ]
  },
  {
   "cell_type": "code",
   "execution_count": 8,
   "id": "5cfad9a1-db89-4eee-a09a-277fa047f8a8",
   "metadata": {},
   "outputs": [
    {
     "data": {
      "text/html": [
       "<div>\n",
       "<style scoped>\n",
       "    .dataframe tbody tr th:only-of-type {\n",
       "        vertical-align: middle;\n",
       "    }\n",
       "\n",
       "    .dataframe tbody tr th {\n",
       "        vertical-align: top;\n",
       "    }\n",
       "\n",
       "    .dataframe thead th {\n",
       "        text-align: right;\n",
       "    }\n",
       "</style>\n",
       "<table border=\"1\" class=\"dataframe\">\n",
       "  <thead>\n",
       "    <tr style=\"text-align: right;\">\n",
       "      <th></th>\n",
       "      <th>EmployeeID</th>\n",
       "      <th>Name</th>\n",
       "      <th>Department</th>\n",
       "      <th>Salary</th>\n",
       "      <th>Bonus</th>\n",
       "    </tr>\n",
       "  </thead>\n",
       "  <tbody>\n",
       "    <tr>\n",
       "      <th>0</th>\n",
       "      <td>101</td>\n",
       "      <td>Alice</td>\n",
       "      <td>HR</td>\n",
       "      <td>50000</td>\n",
       "      <td>5000.0</td>\n",
       "    </tr>\n",
       "    <tr>\n",
       "      <th>1</th>\n",
       "      <td>102</td>\n",
       "      <td>Bob</td>\n",
       "      <td>IT</td>\n",
       "      <td>60000</td>\n",
       "      <td>6000.0</td>\n",
       "    </tr>\n",
       "    <tr>\n",
       "      <th>2</th>\n",
       "      <td>103</td>\n",
       "      <td>Charlie</td>\n",
       "      <td>Finance</td>\n",
       "      <td>55000</td>\n",
       "      <td>5500.0</td>\n",
       "    </tr>\n",
       "    <tr>\n",
       "      <th>3</th>\n",
       "      <td>104</td>\n",
       "      <td>David</td>\n",
       "      <td>IT</td>\n",
       "      <td>65000</td>\n",
       "      <td>6500.0</td>\n",
       "    </tr>\n",
       "    <tr>\n",
       "      <th>4</th>\n",
       "      <td>105</td>\n",
       "      <td>Eva</td>\n",
       "      <td>HR</td>\n",
       "      <td>58000</td>\n",
       "      <td>5800.0</td>\n",
       "    </tr>\n",
       "  </tbody>\n",
       "</table>\n",
       "</div>"
      ],
      "text/plain": [
       "   EmployeeID     Name Department  Salary   Bonus\n",
       "0         101    Alice         HR   50000  5000.0\n",
       "1         102      Bob         IT   60000  6000.0\n",
       "2         103  Charlie    Finance   55000  5500.0\n",
       "3         104    David         IT   65000  6500.0\n",
       "4         105      Eva         HR   58000  5800.0"
      ]
     },
     "execution_count": 8,
     "metadata": {},
     "output_type": "execute_result"
    }
   ],
   "source": [
    "Employee_data"
   ]
  },
  {
   "cell_type": "code",
   "execution_count": 9,
   "id": "9aa857b4-6069-40c7-9822-d27f812227e9",
   "metadata": {},
   "outputs": [],
   "source": [
    "Employee_data.rename(columns={'EmployeeID':'ID'},inplace=True)"
   ]
  },
  {
   "cell_type": "code",
   "execution_count": 10,
   "id": "c3c58050-a93d-49c7-8868-4a6b9017c7b6",
   "metadata": {},
   "outputs": [
    {
     "data": {
      "text/html": [
       "<div>\n",
       "<style scoped>\n",
       "    .dataframe tbody tr th:only-of-type {\n",
       "        vertical-align: middle;\n",
       "    }\n",
       "\n",
       "    .dataframe tbody tr th {\n",
       "        vertical-align: top;\n",
       "    }\n",
       "\n",
       "    .dataframe thead th {\n",
       "        text-align: right;\n",
       "    }\n",
       "</style>\n",
       "<table border=\"1\" class=\"dataframe\">\n",
       "  <thead>\n",
       "    <tr style=\"text-align: right;\">\n",
       "      <th></th>\n",
       "      <th>ID</th>\n",
       "      <th>Name</th>\n",
       "      <th>Department</th>\n",
       "      <th>Salary</th>\n",
       "      <th>Bonus</th>\n",
       "    </tr>\n",
       "  </thead>\n",
       "  <tbody>\n",
       "    <tr>\n",
       "      <th>0</th>\n",
       "      <td>101</td>\n",
       "      <td>Alice</td>\n",
       "      <td>HR</td>\n",
       "      <td>50000</td>\n",
       "      <td>5000.0</td>\n",
       "    </tr>\n",
       "    <tr>\n",
       "      <th>1</th>\n",
       "      <td>102</td>\n",
       "      <td>Bob</td>\n",
       "      <td>IT</td>\n",
       "      <td>60000</td>\n",
       "      <td>6000.0</td>\n",
       "    </tr>\n",
       "    <tr>\n",
       "      <th>2</th>\n",
       "      <td>103</td>\n",
       "      <td>Charlie</td>\n",
       "      <td>Finance</td>\n",
       "      <td>55000</td>\n",
       "      <td>5500.0</td>\n",
       "    </tr>\n",
       "    <tr>\n",
       "      <th>3</th>\n",
       "      <td>104</td>\n",
       "      <td>David</td>\n",
       "      <td>IT</td>\n",
       "      <td>65000</td>\n",
       "      <td>6500.0</td>\n",
       "    </tr>\n",
       "    <tr>\n",
       "      <th>4</th>\n",
       "      <td>105</td>\n",
       "      <td>Eva</td>\n",
       "      <td>HR</td>\n",
       "      <td>58000</td>\n",
       "      <td>5800.0</td>\n",
       "    </tr>\n",
       "  </tbody>\n",
       "</table>\n",
       "</div>"
      ],
      "text/plain": [
       "    ID     Name Department  Salary   Bonus\n",
       "0  101    Alice         HR   50000  5000.0\n",
       "1  102      Bob         IT   60000  6000.0\n",
       "2  103  Charlie    Finance   55000  5500.0\n",
       "3  104    David         IT   65000  6500.0\n",
       "4  105      Eva         HR   58000  5800.0"
      ]
     },
     "execution_count": 10,
     "metadata": {},
     "output_type": "execute_result"
    }
   ],
   "source": [
    "Employee_data"
   ]
  },
  {
   "cell_type": "code",
   "execution_count": 11,
   "id": "cf4cdf56-87e9-4c6c-a36d-0758e0bcd47d",
   "metadata": {},
   "outputs": [],
   "source": [
    "Employee_data.drop(columns=['Department'], inplace=True)"
   ]
  },
  {
   "cell_type": "code",
   "execution_count": 12,
   "id": "591aa85a-9686-400c-a802-48bd99f10b90",
   "metadata": {},
   "outputs": [
    {
     "data": {
      "text/html": [
       "<div>\n",
       "<style scoped>\n",
       "    .dataframe tbody tr th:only-of-type {\n",
       "        vertical-align: middle;\n",
       "    }\n",
       "\n",
       "    .dataframe tbody tr th {\n",
       "        vertical-align: top;\n",
       "    }\n",
       "\n",
       "    .dataframe thead th {\n",
       "        text-align: right;\n",
       "    }\n",
       "</style>\n",
       "<table border=\"1\" class=\"dataframe\">\n",
       "  <thead>\n",
       "    <tr style=\"text-align: right;\">\n",
       "      <th></th>\n",
       "      <th>ID</th>\n",
       "      <th>Name</th>\n",
       "      <th>Salary</th>\n",
       "      <th>Bonus</th>\n",
       "    </tr>\n",
       "  </thead>\n",
       "  <tbody>\n",
       "    <tr>\n",
       "      <th>0</th>\n",
       "      <td>101</td>\n",
       "      <td>Alice</td>\n",
       "      <td>50000</td>\n",
       "      <td>5000.0</td>\n",
       "    </tr>\n",
       "    <tr>\n",
       "      <th>1</th>\n",
       "      <td>102</td>\n",
       "      <td>Bob</td>\n",
       "      <td>60000</td>\n",
       "      <td>6000.0</td>\n",
       "    </tr>\n",
       "    <tr>\n",
       "      <th>2</th>\n",
       "      <td>103</td>\n",
       "      <td>Charlie</td>\n",
       "      <td>55000</td>\n",
       "      <td>5500.0</td>\n",
       "    </tr>\n",
       "    <tr>\n",
       "      <th>3</th>\n",
       "      <td>104</td>\n",
       "      <td>David</td>\n",
       "      <td>65000</td>\n",
       "      <td>6500.0</td>\n",
       "    </tr>\n",
       "    <tr>\n",
       "      <th>4</th>\n",
       "      <td>105</td>\n",
       "      <td>Eva</td>\n",
       "      <td>58000</td>\n",
       "      <td>5800.0</td>\n",
       "    </tr>\n",
       "  </tbody>\n",
       "</table>\n",
       "</div>"
      ],
      "text/plain": [
       "    ID     Name  Salary   Bonus\n",
       "0  101    Alice   50000  5000.0\n",
       "1  102      Bob   60000  6000.0\n",
       "2  103  Charlie   55000  5500.0\n",
       "3  104    David   65000  6500.0\n",
       "4  105      Eva   58000  5800.0"
      ]
     },
     "execution_count": 12,
     "metadata": {},
     "output_type": "execute_result"
    }
   ],
   "source": [
    "Employee_data\n"
   ]
  },
  {
   "cell_type": "code",
   "execution_count": 13,
   "id": "17b9e353-8a32-4e9a-aa4d-6d52bd9913c3",
   "metadata": {},
   "outputs": [],
   "source": [
    "p_data= {\n",
    "    'Month': ['Jan', 'Feb', 'Mar', 'Apr', 'May'],\n",
    "    'Product_A': [150, 200, 250, 300, 350],\n",
    "    'Product_B': [300, 250, 200, 150, 100]\n",
    "}\n",
    "Product_details = pd.DataFrame(p_data)"
   ]
  },
  {
   "cell_type": "code",
   "execution_count": 14,
   "id": "262d43eb-1395-4dcf-986b-5da841bbc972",
   "metadata": {},
   "outputs": [
    {
     "data": {
      "text/html": [
       "<div>\n",
       "<style scoped>\n",
       "    .dataframe tbody tr th:only-of-type {\n",
       "        vertical-align: middle;\n",
       "    }\n",
       "\n",
       "    .dataframe tbody tr th {\n",
       "        vertical-align: top;\n",
       "    }\n",
       "\n",
       "    .dataframe thead th {\n",
       "        text-align: right;\n",
       "    }\n",
       "</style>\n",
       "<table border=\"1\" class=\"dataframe\">\n",
       "  <thead>\n",
       "    <tr style=\"text-align: right;\">\n",
       "      <th></th>\n",
       "      <th>Month</th>\n",
       "      <th>Product_A</th>\n",
       "      <th>Product_B</th>\n",
       "    </tr>\n",
       "  </thead>\n",
       "  <tbody>\n",
       "    <tr>\n",
       "      <th>0</th>\n",
       "      <td>Jan</td>\n",
       "      <td>150</td>\n",
       "      <td>300</td>\n",
       "    </tr>\n",
       "    <tr>\n",
       "      <th>1</th>\n",
       "      <td>Feb</td>\n",
       "      <td>200</td>\n",
       "      <td>250</td>\n",
       "    </tr>\n",
       "    <tr>\n",
       "      <th>2</th>\n",
       "      <td>Mar</td>\n",
       "      <td>250</td>\n",
       "      <td>200</td>\n",
       "    </tr>\n",
       "    <tr>\n",
       "      <th>3</th>\n",
       "      <td>Apr</td>\n",
       "      <td>300</td>\n",
       "      <td>150</td>\n",
       "    </tr>\n",
       "    <tr>\n",
       "      <th>4</th>\n",
       "      <td>May</td>\n",
       "      <td>350</td>\n",
       "      <td>100</td>\n",
       "    </tr>\n",
       "  </tbody>\n",
       "</table>\n",
       "</div>"
      ],
      "text/plain": [
       "  Month  Product_A  Product_B\n",
       "0   Jan        150        300\n",
       "1   Feb        200        250\n",
       "2   Mar        250        200\n",
       "3   Apr        300        150\n",
       "4   May        350        100"
      ]
     },
     "execution_count": 14,
     "metadata": {},
     "output_type": "execute_result"
    }
   ],
   "source": [
    "Product_details"
   ]
  },
  {
   "cell_type": "code",
   "execution_count": 15,
   "id": "5455fa39-7d1d-4c64-abc0-23e8e3da18eb",
   "metadata": {},
   "outputs": [],
   "source": [
    "product_a = Product_details['Product_A'].sum()\n",
    "product_b = Product_details['Product_B'].sum()"
   ]
  },
  {
   "cell_type": "code",
   "execution_count": 16,
   "id": "ce5b41a7-99b7-4d1e-bda9-d345fc7790a6",
   "metadata": {},
   "outputs": [
    {
     "data": {
      "text/plain": [
       "1250"
      ]
     },
     "execution_count": 16,
     "metadata": {},
     "output_type": "execute_result"
    }
   ],
   "source": [
    "product_a"
   ]
  },
  {
   "cell_type": "code",
   "execution_count": 18,
   "id": "67271f22-ba67-496f-801a-6f64fe884b16",
   "metadata": {},
   "outputs": [
    {
     "data": {
      "text/plain": [
       "1000"
      ]
     },
     "execution_count": 18,
     "metadata": {},
     "output_type": "execute_result"
    }
   ],
   "source": [
    "product_b"
   ]
  },
  {
   "cell_type": "code",
   "execution_count": 19,
   "id": "4d63e35c-2c79-4b52-8f2f-39c937de1ace",
   "metadata": {},
   "outputs": [],
   "source": [
    "max_a = Product_details['Month'][Product_details['Product_A'].idxmax()]"
   ]
  },
  {
   "cell_type": "code",
   "execution_count": 20,
   "id": "c39901e4-b634-4ef6-93b8-de57716a1307",
   "metadata": {},
   "outputs": [
    {
     "data": {
      "text/html": [
       "<div>\n",
       "<style scoped>\n",
       "    .dataframe tbody tr th:only-of-type {\n",
       "        vertical-align: middle;\n",
       "    }\n",
       "\n",
       "    .dataframe tbody tr th {\n",
       "        vertical-align: top;\n",
       "    }\n",
       "\n",
       "    .dataframe thead th {\n",
       "        text-align: right;\n",
       "    }\n",
       "</style>\n",
       "<table border=\"1\" class=\"dataframe\">\n",
       "  <thead>\n",
       "    <tr style=\"text-align: right;\">\n",
       "      <th></th>\n",
       "      <th>Month</th>\n",
       "      <th>Product_A</th>\n",
       "      <th>Product_B</th>\n",
       "    </tr>\n",
       "  </thead>\n",
       "  <tbody>\n",
       "    <tr>\n",
       "      <th>0</th>\n",
       "      <td>Jan</td>\n",
       "      <td>150</td>\n",
       "      <td>300</td>\n",
       "    </tr>\n",
       "    <tr>\n",
       "      <th>1</th>\n",
       "      <td>Feb</td>\n",
       "      <td>200</td>\n",
       "      <td>250</td>\n",
       "    </tr>\n",
       "    <tr>\n",
       "      <th>2</th>\n",
       "      <td>Mar</td>\n",
       "      <td>250</td>\n",
       "      <td>200</td>\n",
       "    </tr>\n",
       "    <tr>\n",
       "      <th>3</th>\n",
       "      <td>Apr</td>\n",
       "      <td>300</td>\n",
       "      <td>150</td>\n",
       "    </tr>\n",
       "    <tr>\n",
       "      <th>4</th>\n",
       "      <td>May</td>\n",
       "      <td>350</td>\n",
       "      <td>100</td>\n",
       "    </tr>\n",
       "  </tbody>\n",
       "</table>\n",
       "</div>"
      ],
      "text/plain": [
       "  Month  Product_A  Product_B\n",
       "0   Jan        150        300\n",
       "1   Feb        200        250\n",
       "2   Mar        250        200\n",
       "3   Apr        300        150\n",
       "4   May        350        100"
      ]
     },
     "execution_count": 20,
     "metadata": {},
     "output_type": "execute_result"
    }
   ],
   "source": [
    "Product_details"
   ]
  },
  {
   "cell_type": "code",
   "execution_count": 21,
   "id": "3b0bbe4d-7b61-437a-860e-6a9b07cc13a0",
   "metadata": {},
   "outputs": [
    {
     "data": {
      "text/plain": [
       "'May'"
      ]
     },
     "execution_count": 21,
     "metadata": {},
     "output_type": "execute_result"
    }
   ],
   "source": [
    "max_a"
   ]
  },
  {
   "cell_type": "code",
   "execution_count": 22,
   "id": "c85cc830-3417-44e6-8994-21cfecdfb5fa",
   "metadata": {},
   "outputs": [],
   "source": [
    "Product_details['Total_Sales'] = Product_details['Product_A'] + Product_details['Product_B'] "
   ]
  },
  {
   "cell_type": "code",
   "execution_count": 23,
   "id": "fec84559-1c64-4ce2-ae59-e812eb8c2871",
   "metadata": {},
   "outputs": [
    {
     "data": {
      "text/html": [
       "<div>\n",
       "<style scoped>\n",
       "    .dataframe tbody tr th:only-of-type {\n",
       "        vertical-align: middle;\n",
       "    }\n",
       "\n",
       "    .dataframe tbody tr th {\n",
       "        vertical-align: top;\n",
       "    }\n",
       "\n",
       "    .dataframe thead th {\n",
       "        text-align: right;\n",
       "    }\n",
       "</style>\n",
       "<table border=\"1\" class=\"dataframe\">\n",
       "  <thead>\n",
       "    <tr style=\"text-align: right;\">\n",
       "      <th></th>\n",
       "      <th>Month</th>\n",
       "      <th>Product_A</th>\n",
       "      <th>Product_B</th>\n",
       "      <th>Total_Sales</th>\n",
       "    </tr>\n",
       "  </thead>\n",
       "  <tbody>\n",
       "    <tr>\n",
       "      <th>0</th>\n",
       "      <td>Jan</td>\n",
       "      <td>150</td>\n",
       "      <td>300</td>\n",
       "      <td>450</td>\n",
       "    </tr>\n",
       "    <tr>\n",
       "      <th>1</th>\n",
       "      <td>Feb</td>\n",
       "      <td>200</td>\n",
       "      <td>250</td>\n",
       "      <td>450</td>\n",
       "    </tr>\n",
       "    <tr>\n",
       "      <th>2</th>\n",
       "      <td>Mar</td>\n",
       "      <td>250</td>\n",
       "      <td>200</td>\n",
       "      <td>450</td>\n",
       "    </tr>\n",
       "    <tr>\n",
       "      <th>3</th>\n",
       "      <td>Apr</td>\n",
       "      <td>300</td>\n",
       "      <td>150</td>\n",
       "      <td>450</td>\n",
       "    </tr>\n",
       "    <tr>\n",
       "      <th>4</th>\n",
       "      <td>May</td>\n",
       "      <td>350</td>\n",
       "      <td>100</td>\n",
       "      <td>450</td>\n",
       "    </tr>\n",
       "  </tbody>\n",
       "</table>\n",
       "</div>"
      ],
      "text/plain": [
       "  Month  Product_A  Product_B  Total_Sales\n",
       "0   Jan        150        300          450\n",
       "1   Feb        200        250          450\n",
       "2   Mar        250        200          450\n",
       "3   Apr        300        150          450\n",
       "4   May        350        100          450"
      ]
     },
     "execution_count": 23,
     "metadata": {},
     "output_type": "execute_result"
    }
   ],
   "source": [
    "Product_details"
   ]
  },
  {
   "cell_type": "code",
   "execution_count": 24,
   "id": "651e09fc-051a-4d85-b497-8be5e2e900e3",
   "metadata": {},
   "outputs": [],
   "source": [
    "max_a = Product_details['Product_A'].max()\n",
    "Product_details['A_Normalized'] = Product_details['Product_A'] / max_a"
   ]
  },
  {
   "cell_type": "code",
   "execution_count": 25,
   "id": "b00b46fc-91e7-4393-b1bb-aeb6f3f2d206",
   "metadata": {},
   "outputs": [
    {
     "data": {
      "text/html": [
       "<div>\n",
       "<style scoped>\n",
       "    .dataframe tbody tr th:only-of-type {\n",
       "        vertical-align: middle;\n",
       "    }\n",
       "\n",
       "    .dataframe tbody tr th {\n",
       "        vertical-align: top;\n",
       "    }\n",
       "\n",
       "    .dataframe thead th {\n",
       "        text-align: right;\n",
       "    }\n",
       "</style>\n",
       "<table border=\"1\" class=\"dataframe\">\n",
       "  <thead>\n",
       "    <tr style=\"text-align: right;\">\n",
       "      <th></th>\n",
       "      <th>Month</th>\n",
       "      <th>Product_A</th>\n",
       "      <th>Product_B</th>\n",
       "      <th>Total_Sales</th>\n",
       "      <th>A_Normalized</th>\n",
       "    </tr>\n",
       "  </thead>\n",
       "  <tbody>\n",
       "    <tr>\n",
       "      <th>0</th>\n",
       "      <td>Jan</td>\n",
       "      <td>150</td>\n",
       "      <td>300</td>\n",
       "      <td>450</td>\n",
       "      <td>0.428571</td>\n",
       "    </tr>\n",
       "    <tr>\n",
       "      <th>1</th>\n",
       "      <td>Feb</td>\n",
       "      <td>200</td>\n",
       "      <td>250</td>\n",
       "      <td>450</td>\n",
       "      <td>0.571429</td>\n",
       "    </tr>\n",
       "    <tr>\n",
       "      <th>2</th>\n",
       "      <td>Mar</td>\n",
       "      <td>250</td>\n",
       "      <td>200</td>\n",
       "      <td>450</td>\n",
       "      <td>0.714286</td>\n",
       "    </tr>\n",
       "    <tr>\n",
       "      <th>3</th>\n",
       "      <td>Apr</td>\n",
       "      <td>300</td>\n",
       "      <td>150</td>\n",
       "      <td>450</td>\n",
       "      <td>0.857143</td>\n",
       "    </tr>\n",
       "    <tr>\n",
       "      <th>4</th>\n",
       "      <td>May</td>\n",
       "      <td>350</td>\n",
       "      <td>100</td>\n",
       "      <td>450</td>\n",
       "      <td>1.000000</td>\n",
       "    </tr>\n",
       "  </tbody>\n",
       "</table>\n",
       "</div>"
      ],
      "text/plain": [
       "  Month  Product_A  Product_B  Total_Sales  A_Normalized\n",
       "0   Jan        150        300          450      0.428571\n",
       "1   Feb        200        250          450      0.571429\n",
       "2   Mar        250        200          450      0.714286\n",
       "3   Apr        300        150          450      0.857143\n",
       "4   May        350        100          450      1.000000"
      ]
     },
     "execution_count": 25,
     "metadata": {},
     "output_type": "execute_result"
    }
   ],
   "source": [
    "Product_details"
   ]
  },
  {
   "cell_type": "code",
   "execution_count": 26,
   "id": "30f634d8-42ad-4cc7-b3ec-2fc9cd715c34",
   "metadata": {},
   "outputs": [],
   "source": [
    "filtered_pr = Product_details[Product_details['Total_Sales'] > 400]"
   ]
  },
  {
   "cell_type": "code",
   "execution_count": 27,
   "id": "7f9f0387-77fa-4ba9-a6a9-174ca39299a8",
   "metadata": {},
   "outputs": [
    {
     "data": {
      "text/html": [
       "<div>\n",
       "<style scoped>\n",
       "    .dataframe tbody tr th:only-of-type {\n",
       "        vertical-align: middle;\n",
       "    }\n",
       "\n",
       "    .dataframe tbody tr th {\n",
       "        vertical-align: top;\n",
       "    }\n",
       "\n",
       "    .dataframe thead th {\n",
       "        text-align: right;\n",
       "    }\n",
       "</style>\n",
       "<table border=\"1\" class=\"dataframe\">\n",
       "  <thead>\n",
       "    <tr style=\"text-align: right;\">\n",
       "      <th></th>\n",
       "      <th>Month</th>\n",
       "      <th>Product_A</th>\n",
       "      <th>Product_B</th>\n",
       "      <th>Total_Sales</th>\n",
       "      <th>A_Normalized</th>\n",
       "    </tr>\n",
       "  </thead>\n",
       "  <tbody>\n",
       "    <tr>\n",
       "      <th>0</th>\n",
       "      <td>Jan</td>\n",
       "      <td>150</td>\n",
       "      <td>300</td>\n",
       "      <td>450</td>\n",
       "      <td>0.428571</td>\n",
       "    </tr>\n",
       "    <tr>\n",
       "      <th>1</th>\n",
       "      <td>Feb</td>\n",
       "      <td>200</td>\n",
       "      <td>250</td>\n",
       "      <td>450</td>\n",
       "      <td>0.571429</td>\n",
       "    </tr>\n",
       "    <tr>\n",
       "      <th>2</th>\n",
       "      <td>Mar</td>\n",
       "      <td>250</td>\n",
       "      <td>200</td>\n",
       "      <td>450</td>\n",
       "      <td>0.714286</td>\n",
       "    </tr>\n",
       "    <tr>\n",
       "      <th>3</th>\n",
       "      <td>Apr</td>\n",
       "      <td>300</td>\n",
       "      <td>150</td>\n",
       "      <td>450</td>\n",
       "      <td>0.857143</td>\n",
       "    </tr>\n",
       "    <tr>\n",
       "      <th>4</th>\n",
       "      <td>May</td>\n",
       "      <td>350</td>\n",
       "      <td>100</td>\n",
       "      <td>450</td>\n",
       "      <td>1.000000</td>\n",
       "    </tr>\n",
       "  </tbody>\n",
       "</table>\n",
       "</div>"
      ],
      "text/plain": [
       "  Month  Product_A  Product_B  Total_Sales  A_Normalized\n",
       "0   Jan        150        300          450      0.428571\n",
       "1   Feb        200        250          450      0.571429\n",
       "2   Mar        250        200          450      0.714286\n",
       "3   Apr        300        150          450      0.857143\n",
       "4   May        350        100          450      1.000000"
      ]
     },
     "execution_count": 27,
     "metadata": {},
     "output_type": "execute_result"
    }
   ],
   "source": [
    "filtered_pr"
   ]
  },
  {
   "cell_type": "code",
   "execution_count": 28,
   "id": "4ae544ce-320b-4c02-9259-14073bda1c61",
   "metadata": {},
   "outputs": [],
   "source": [
    "customer_data = {\n",
    "    'CustomerID': [1, 2, 3, 4, 5],\n",
    "    'Name': ['John', 'Jane', None, 'Alice', 'Bob'],\n",
    "    'Purchase': [200, 300, 150, None, 500]\n",
    "}\n",
    "customer_data= pd.DataFrame(customer_data)"
   ]
  },
  {
   "cell_type": "code",
   "execution_count": 29,
   "id": "c9f2773b-75d0-415c-80f9-2df221bfc5d4",
   "metadata": {},
   "outputs": [
    {
     "data": {
      "text/html": [
       "<div>\n",
       "<style scoped>\n",
       "    .dataframe tbody tr th:only-of-type {\n",
       "        vertical-align: middle;\n",
       "    }\n",
       "\n",
       "    .dataframe tbody tr th {\n",
       "        vertical-align: top;\n",
       "    }\n",
       "\n",
       "    .dataframe thead th {\n",
       "        text-align: right;\n",
       "    }\n",
       "</style>\n",
       "<table border=\"1\" class=\"dataframe\">\n",
       "  <thead>\n",
       "    <tr style=\"text-align: right;\">\n",
       "      <th></th>\n",
       "      <th>CustomerID</th>\n",
       "      <th>Name</th>\n",
       "      <th>Purchase</th>\n",
       "    </tr>\n",
       "  </thead>\n",
       "  <tbody>\n",
       "    <tr>\n",
       "      <th>0</th>\n",
       "      <td>1</td>\n",
       "      <td>John</td>\n",
       "      <td>200.0</td>\n",
       "    </tr>\n",
       "    <tr>\n",
       "      <th>1</th>\n",
       "      <td>2</td>\n",
       "      <td>Jane</td>\n",
       "      <td>300.0</td>\n",
       "    </tr>\n",
       "    <tr>\n",
       "      <th>2</th>\n",
       "      <td>3</td>\n",
       "      <td>None</td>\n",
       "      <td>150.0</td>\n",
       "    </tr>\n",
       "    <tr>\n",
       "      <th>3</th>\n",
       "      <td>4</td>\n",
       "      <td>Alice</td>\n",
       "      <td>NaN</td>\n",
       "    </tr>\n",
       "    <tr>\n",
       "      <th>4</th>\n",
       "      <td>5</td>\n",
       "      <td>Bob</td>\n",
       "      <td>500.0</td>\n",
       "    </tr>\n",
       "  </tbody>\n",
       "</table>\n",
       "</div>"
      ],
      "text/plain": [
       "   CustomerID   Name  Purchase\n",
       "0           1   John     200.0\n",
       "1           2   Jane     300.0\n",
       "2           3   None     150.0\n",
       "3           4  Alice       NaN\n",
       "4           5    Bob     500.0"
      ]
     },
     "execution_count": 29,
     "metadata": {},
     "output_type": "execute_result"
    }
   ],
   "source": [
    "customer_data"
   ]
  },
  {
   "cell_type": "code",
   "execution_count": 30,
   "id": "fe6763e0-a992-47e7-996a-9564fd5ec4c1",
   "metadata": {},
   "outputs": [],
   "source": [
    "missing_value = customer_data.isnull().sum()"
   ]
  },
  {
   "cell_type": "code",
   "execution_count": 31,
   "id": "e0767807-1dc9-4a08-a620-53705a266926",
   "metadata": {},
   "outputs": [
    {
     "data": {
      "text/plain": [
       "CustomerID    0\n",
       "Name          1\n",
       "Purchase      1\n",
       "dtype: int64"
      ]
     },
     "execution_count": 31,
     "metadata": {},
     "output_type": "execute_result"
    }
   ],
   "source": [
    "missing_value"
   ]
  },
  {
   "cell_type": "code",
   "execution_count": 32,
   "id": "02bf1cec-b4fe-4ab4-bbd1-5cd8f39a1c9a",
   "metadata": {},
   "outputs": [],
   "source": [
    "customer_data = customer_data.assign(Name=customer_data['Name'].fillna('Unknown'))"
   ]
  },
  {
   "cell_type": "code",
   "execution_count": 33,
   "id": "434d3461-4931-4bf3-a14e-4526b69fcc09",
   "metadata": {},
   "outputs": [],
   "source": [
    "median_purchase = customer_data['Purchase'].median()\n",
    "customer_data = customer_data.assign(Purchase=customer_data['Purchase'].fillna(median_purchase))"
   ]
  },
  {
   "cell_type": "code",
   "execution_count": 34,
   "id": "b86744ba-f700-4dfc-83e9-cd86e26ecb1d",
   "metadata": {},
   "outputs": [],
   "source": [
    "customer_data.dropna(inplace=True)"
   ]
  },
  {
   "cell_type": "code",
   "execution_count": 35,
   "id": "d3bdc37d-8d66-425b-8642-f344446b81f2",
   "metadata": {},
   "outputs": [],
   "source": [
    "filtered_data = customer_data[customer_data['Purchase'] > median_purchase]"
   ]
  },
  {
   "cell_type": "code",
   "execution_count": 36,
   "id": "8082fcc3-7348-4c41-b6df-979bdb00b52f",
   "metadata": {},
   "outputs": [
    {
     "data": {
      "text/html": [
       "<div>\n",
       "<style scoped>\n",
       "    .dataframe tbody tr th:only-of-type {\n",
       "        vertical-align: middle;\n",
       "    }\n",
       "\n",
       "    .dataframe tbody tr th {\n",
       "        vertical-align: top;\n",
       "    }\n",
       "\n",
       "    .dataframe thead th {\n",
       "        text-align: right;\n",
       "    }\n",
       "</style>\n",
       "<table border=\"1\" class=\"dataframe\">\n",
       "  <thead>\n",
       "    <tr style=\"text-align: right;\">\n",
       "      <th></th>\n",
       "      <th>CustomerID</th>\n",
       "      <th>Name</th>\n",
       "      <th>Purchase</th>\n",
       "    </tr>\n",
       "  </thead>\n",
       "  <tbody>\n",
       "    <tr>\n",
       "      <th>1</th>\n",
       "      <td>2</td>\n",
       "      <td>Jane</td>\n",
       "      <td>300.0</td>\n",
       "    </tr>\n",
       "    <tr>\n",
       "      <th>4</th>\n",
       "      <td>5</td>\n",
       "      <td>Bob</td>\n",
       "      <td>500.0</td>\n",
       "    </tr>\n",
       "  </tbody>\n",
       "</table>\n",
       "</div>"
      ],
      "text/plain": [
       "   CustomerID  Name  Purchase\n",
       "1           2  Jane     300.0\n",
       "4           5   Bob     500.0"
      ]
     },
     "execution_count": 36,
     "metadata": {},
     "output_type": "execute_result"
    }
   ],
   "source": [
    "filtered_data"
   ]
  },
  {
   "cell_type": "code",
   "execution_count": 37,
   "id": "6f986f83-7c2d-4f78-bb00-bf969004dee4",
   "metadata": {},
   "outputs": [],
   "source": [
    "import pandas as pd"
   ]
  },
  {
   "cell_type": "code",
   "execution_count": 38,
   "id": "30018597-9a9b-4dc8-94c8-989d7f3a7927",
   "metadata": {},
   "outputs": [],
   "source": [
    "temperature = pd.Series([23, 21, 20, 25, 27, 30, 28, 22, 24, 26])"
   ]
  },
  {
   "cell_type": "code",
   "execution_count": 39,
   "id": "a8b8bca0-74f4-4139-ac2b-5e24bf730cca",
   "metadata": {},
   "outputs": [],
   "source": [
    "mean_temp = temperature.mean()"
   ]
  },
  {
   "cell_type": "code",
   "execution_count": 40,
   "id": "5abd6116-0277-48dd-884c-0567fe347c25",
   "metadata": {},
   "outputs": [
    {
     "data": {
      "text/plain": [
       "24.6"
      ]
     },
     "execution_count": 40,
     "metadata": {},
     "output_type": "execute_result"
    }
   ],
   "source": [
    "mean_temp"
   ]
  },
  {
   "cell_type": "code",
   "execution_count": 41,
   "id": "797e0a8b-355c-47c5-9bf7-378d6cdf5bc2",
   "metadata": {},
   "outputs": [],
   "source": [
    "median_temp = temperature.median()"
   ]
  },
  {
   "cell_type": "code",
   "execution_count": 42,
   "id": "0859216f-d0bd-4770-a442-0bd2e61a5339",
   "metadata": {},
   "outputs": [
    {
     "data": {
      "text/plain": [
       "24.5"
      ]
     },
     "execution_count": 42,
     "metadata": {},
     "output_type": "execute_result"
    }
   ],
   "source": [
    "median_temp"
   ]
  },
  {
   "cell_type": "code",
   "execution_count": 43,
   "id": "6ed5d704-e927-49c4-a2ae-53a336bf84ad",
   "metadata": {},
   "outputs": [],
   "source": [
    "var_temp = temperature.var()"
   ]
  },
  {
   "cell_type": "code",
   "execution_count": 44,
   "id": "375c9cc7-0d71-4bb3-a3f3-d033a2a0eb72",
   "metadata": {},
   "outputs": [
    {
     "data": {
      "text/plain": [
       "10.266666666666666"
      ]
     },
     "execution_count": 44,
     "metadata": {},
     "output_type": "execute_result"
    }
   ],
   "source": [
    "var_temp"
   ]
  },
  {
   "cell_type": "code",
   "execution_count": 45,
   "id": "69445dfd-5991-4ffc-b726-db8778112a10",
   "metadata": {},
   "outputs": [],
   "source": [
    "above_below_mean = temperature.apply(lambda x: 'Above' if x > mean_temp else 'Below')"
   ]
  },
  {
   "cell_type": "code",
   "execution_count": 46,
   "id": "b1b4f67c-8a3c-4f75-8afc-81bae4493049",
   "metadata": {},
   "outputs": [
    {
     "data": {
      "text/plain": [
       "0    Below\n",
       "1    Below\n",
       "2    Below\n",
       "3    Above\n",
       "4    Above\n",
       "5    Above\n",
       "6    Above\n",
       "7    Below\n",
       "8    Below\n",
       "9    Above\n",
       "dtype: object"
      ]
     },
     "execution_count": 46,
     "metadata": {},
     "output_type": "execute_result"
    }
   ],
   "source": [
    "above_below_mean"
   ]
  },
  {
   "cell_type": "code",
   "execution_count": 47,
   "id": "eef848fa-fe87-44c6-bb94-e94750c120e7",
   "metadata": {},
   "outputs": [],
   "source": [
    "temperature_kelvin = temperature + 273.15"
   ]
  },
  {
   "cell_type": "code",
   "execution_count": 48,
   "id": "0a5aa03b-fb61-4607-8ac4-e79377a82e11",
   "metadata": {},
   "outputs": [
    {
     "data": {
      "text/plain": [
       "0    296.15\n",
       "1    294.15\n",
       "2    293.15\n",
       "3    298.15\n",
       "4    300.15\n",
       "5    303.15\n",
       "6    301.15\n",
       "7    295.15\n",
       "8    297.15\n",
       "9    299.15\n",
       "dtype: float64"
      ]
     },
     "execution_count": 48,
     "metadata": {},
     "output_type": "execute_result"
    }
   ],
   "source": [
    "temperature_kelvin"
   ]
  },
  {
   "cell_type": "code",
   "execution_count": 49,
   "id": "9e9cc023-f286-4cfe-afcb-caae183c8c75",
   "metadata": {},
   "outputs": [],
   "source": [
    "rolling_mean = temperature.rolling(window=3).mean()"
   ]
  },
  {
   "cell_type": "code",
   "execution_count": 50,
   "id": "a654e312-0302-4c3c-ad5b-12fdfcf99eaa",
   "metadata": {},
   "outputs": [
    {
     "data": {
      "text/plain": [
       "0          NaN\n",
       "1          NaN\n",
       "2    21.333333\n",
       "3    22.000000\n",
       "4    24.000000\n",
       "5    27.333333\n",
       "6    28.333333\n",
       "7    26.666667\n",
       "8    24.666667\n",
       "9    24.000000\n",
       "dtype: float64"
      ]
     },
     "execution_count": 50,
     "metadata": {},
     "output_type": "execute_result"
    }
   ],
   "source": [
    "rolling_mean"
   ]
  },
  {
   "cell_type": "code",
   "execution_count": 51,
   "id": "113cfbee-f4e0-455c-b5d6-4bcf2ea3a745",
   "metadata": {},
   "outputs": [],
   "source": [
    "std_dev_temp = temperature.std()\n",
    "filtered_temps = temperature[(temperature < (mean_temp - std_dev_temp)) | (temperature > (mean_temp + std_dev_temp))]"
   ]
  },
  {
   "cell_type": "code",
   "execution_count": 52,
   "id": "02a290c5-9531-454b-982b-3f0751e79df7",
   "metadata": {},
   "outputs": [
    {
     "data": {
      "text/plain": [
       "1    21\n",
       "2    20\n",
       "5    30\n",
       "6    28\n",
       "dtype: int64"
      ]
     },
     "execution_count": 52,
     "metadata": {},
     "output_type": "execute_result"
    }
   ],
   "source": [
    "filtered_temps"
   ]
  },
  {
   "cell_type": "code",
   "execution_count": 53,
   "id": "a845587d-7097-436a-b94d-77306e77704d",
   "metadata": {},
   "outputs": [],
   "source": [
    "import pandas as pd"
   ]
  },
  {
   "cell_type": "code",
   "execution_count": 54,
   "id": "0dfc5395-75e1-465c-a014-b04c292ace22",
   "metadata": {},
   "outputs": [
    {
     "data": {
      "text/html": [
       "<div>\n",
       "<style scoped>\n",
       "    .dataframe tbody tr th:only-of-type {\n",
       "        vertical-align: middle;\n",
       "    }\n",
       "\n",
       "    .dataframe tbody tr th {\n",
       "        vertical-align: top;\n",
       "    }\n",
       "\n",
       "    .dataframe thead th {\n",
       "        text-align: right;\n",
       "    }\n",
       "</style>\n",
       "<table border=\"1\" class=\"dataframe\">\n",
       "  <thead>\n",
       "    <tr style=\"text-align: right;\">\n",
       "      <th></th>\n",
       "      <th>OrderID</th>\n",
       "      <th>CustomerID</th>\n",
       "      <th>Product</th>\n",
       "      <th>Quantity</th>\n",
       "    </tr>\n",
       "  </thead>\n",
       "  <tbody>\n",
       "    <tr>\n",
       "      <th>0</th>\n",
       "      <td>1</td>\n",
       "      <td>101</td>\n",
       "      <td>A</td>\n",
       "      <td>2</td>\n",
       "    </tr>\n",
       "    <tr>\n",
       "      <th>1</th>\n",
       "      <td>2</td>\n",
       "      <td>102</td>\n",
       "      <td>B</td>\n",
       "      <td>1</td>\n",
       "    </tr>\n",
       "    <tr>\n",
       "      <th>2</th>\n",
       "      <td>3</td>\n",
       "      <td>103</td>\n",
       "      <td>A</td>\n",
       "      <td>4</td>\n",
       "    </tr>\n",
       "    <tr>\n",
       "      <th>3</th>\n",
       "      <td>4</td>\n",
       "      <td>104</td>\n",
       "      <td>C</td>\n",
       "      <td>2</td>\n",
       "    </tr>\n",
       "    <tr>\n",
       "      <th>4</th>\n",
       "      <td>5</td>\n",
       "      <td>101</td>\n",
       "      <td>B</td>\n",
       "      <td>3</td>\n",
       "    </tr>\n",
       "  </tbody>\n",
       "</table>\n",
       "</div>"
      ],
      "text/plain": [
       "   OrderID  CustomerID Product  Quantity\n",
       "0        1         101       A         2\n",
       "1        2         102       B         1\n",
       "2        3         103       A         4\n",
       "3        4         104       C         2\n",
       "4        5         101       B         3"
      ]
     },
     "execution_count": 54,
     "metadata": {},
     "output_type": "execute_result"
    }
   ],
   "source": [
    "orders = pd.DataFrame({'OrderID': [1, 2, 3, 4, 5],'CustomerID': [101, 102, 103, 104, 101],'Product': ['A', 'B', 'A', 'C', 'B'],'Quantity': [2, 1, 4, 2, 3]})\n",
    "orders"
   ]
  },
  {
   "cell_type": "code",
   "execution_count": 55,
   "id": "dfe331ba-8b36-442d-8851-b6942740e4f9",
   "metadata": {},
   "outputs": [
    {
     "data": {
      "text/html": [
       "<div>\n",
       "<style scoped>\n",
       "    .dataframe tbody tr th:only-of-type {\n",
       "        vertical-align: middle;\n",
       "    }\n",
       "\n",
       "    .dataframe tbody tr th {\n",
       "        vertical-align: top;\n",
       "    }\n",
       "\n",
       "    .dataframe thead th {\n",
       "        text-align: right;\n",
       "    }\n",
       "</style>\n",
       "<table border=\"1\" class=\"dataframe\">\n",
       "  <thead>\n",
       "    <tr style=\"text-align: right;\">\n",
       "      <th></th>\n",
       "      <th>CustomerID</th>\n",
       "      <th>Name</th>\n",
       "      <th>Location</th>\n",
       "    </tr>\n",
       "  </thead>\n",
       "  <tbody>\n",
       "    <tr>\n",
       "      <th>0</th>\n",
       "      <td>101</td>\n",
       "      <td>Alice</td>\n",
       "      <td>New York</td>\n",
       "    </tr>\n",
       "    <tr>\n",
       "      <th>1</th>\n",
       "      <td>102</td>\n",
       "      <td>Bob</td>\n",
       "      <td>Los Angeles</td>\n",
       "    </tr>\n",
       "    <tr>\n",
       "      <th>2</th>\n",
       "      <td>103</td>\n",
       "      <td>Charlie</td>\n",
       "      <td>Chicago</td>\n",
       "    </tr>\n",
       "    <tr>\n",
       "      <th>3</th>\n",
       "      <td>104</td>\n",
       "      <td>David</td>\n",
       "      <td>Houston</td>\n",
       "    </tr>\n",
       "  </tbody>\n",
       "</table>\n",
       "</div>"
      ],
      "text/plain": [
       "   CustomerID     Name     Location\n",
       "0         101    Alice     New York\n",
       "1         102      Bob  Los Angeles\n",
       "2         103  Charlie      Chicago\n",
       "3         104    David      Houston"
      ]
     },
     "execution_count": 55,
     "metadata": {},
     "output_type": "execute_result"
    }
   ],
   "source": [
    "customers = pd.DataFrame({'CustomerID': [101, 102, 103, 104],'Name': ['Alice', 'Bob', 'Charlie', 'David'],'Location': ['New York', 'Los Angeles', 'Chicago', 'Houston']})\n",
    "customers"
   ]
  },
  {
   "cell_type": "code",
   "execution_count": 56,
   "id": "f193bdd1-0caf-480a-8d9a-2fd9ec07084a",
   "metadata": {},
   "outputs": [
    {
     "data": {
      "text/html": [
       "<div>\n",
       "<style scoped>\n",
       "    .dataframe tbody tr th:only-of-type {\n",
       "        vertical-align: middle;\n",
       "    }\n",
       "\n",
       "    .dataframe tbody tr th {\n",
       "        vertical-align: top;\n",
       "    }\n",
       "\n",
       "    .dataframe thead th {\n",
       "        text-align: right;\n",
       "    }\n",
       "</style>\n",
       "<table border=\"1\" class=\"dataframe\">\n",
       "  <thead>\n",
       "    <tr style=\"text-align: right;\">\n",
       "      <th></th>\n",
       "      <th>OrderID</th>\n",
       "      <th>CustomerID</th>\n",
       "      <th>Product</th>\n",
       "      <th>Quantity</th>\n",
       "      <th>Name</th>\n",
       "      <th>Location</th>\n",
       "    </tr>\n",
       "  </thead>\n",
       "  <tbody>\n",
       "    <tr>\n",
       "      <th>0</th>\n",
       "      <td>1</td>\n",
       "      <td>101</td>\n",
       "      <td>A</td>\n",
       "      <td>2</td>\n",
       "      <td>Alice</td>\n",
       "      <td>New York</td>\n",
       "    </tr>\n",
       "    <tr>\n",
       "      <th>1</th>\n",
       "      <td>5</td>\n",
       "      <td>101</td>\n",
       "      <td>B</td>\n",
       "      <td>3</td>\n",
       "      <td>Alice</td>\n",
       "      <td>New York</td>\n",
       "    </tr>\n",
       "    <tr>\n",
       "      <th>2</th>\n",
       "      <td>2</td>\n",
       "      <td>102</td>\n",
       "      <td>B</td>\n",
       "      <td>1</td>\n",
       "      <td>Bob</td>\n",
       "      <td>Los Angeles</td>\n",
       "    </tr>\n",
       "    <tr>\n",
       "      <th>3</th>\n",
       "      <td>3</td>\n",
       "      <td>103</td>\n",
       "      <td>A</td>\n",
       "      <td>4</td>\n",
       "      <td>Charlie</td>\n",
       "      <td>Chicago</td>\n",
       "    </tr>\n",
       "    <tr>\n",
       "      <th>4</th>\n",
       "      <td>4</td>\n",
       "      <td>104</td>\n",
       "      <td>C</td>\n",
       "      <td>2</td>\n",
       "      <td>David</td>\n",
       "      <td>Houston</td>\n",
       "    </tr>\n",
       "  </tbody>\n",
       "</table>\n",
       "</div>"
      ],
      "text/plain": [
       "   OrderID  CustomerID Product  Quantity     Name     Location\n",
       "0        1         101       A         2    Alice     New York\n",
       "1        5         101       B         3    Alice     New York\n",
       "2        2         102       B         1      Bob  Los Angeles\n",
       "3        3         103       A         4  Charlie      Chicago\n",
       "4        4         104       C         2    David      Houston"
      ]
     },
     "execution_count": 56,
     "metadata": {},
     "output_type": "execute_result"
    }
   ],
   "source": [
    "merged_df = pd.merge(orders, customers, on='CustomerID')\n",
    "merged_df"
   ]
  },
  {
   "cell_type": "code",
   "execution_count": 57,
   "id": "d1b10d9d-f178-4b4d-be3c-e3b076ef879b",
   "metadata": {},
   "outputs": [
    {
     "data": {
      "text/html": [
       "<div>\n",
       "<style scoped>\n",
       "    .dataframe tbody tr th:only-of-type {\n",
       "        vertical-align: middle;\n",
       "    }\n",
       "\n",
       "    .dataframe tbody tr th {\n",
       "        vertical-align: top;\n",
       "    }\n",
       "\n",
       "    .dataframe thead th {\n",
       "        text-align: right;\n",
       "    }\n",
       "</style>\n",
       "<table border=\"1\" class=\"dataframe\">\n",
       "  <thead>\n",
       "    <tr style=\"text-align: right;\">\n",
       "      <th></th>\n",
       "      <th>Location</th>\n",
       "      <th>Quantity</th>\n",
       "    </tr>\n",
       "  </thead>\n",
       "  <tbody>\n",
       "    <tr>\n",
       "      <th>0</th>\n",
       "      <td>Chicago</td>\n",
       "      <td>4</td>\n",
       "    </tr>\n",
       "    <tr>\n",
       "      <th>1</th>\n",
       "      <td>Houston</td>\n",
       "      <td>2</td>\n",
       "    </tr>\n",
       "    <tr>\n",
       "      <th>2</th>\n",
       "      <td>Los Angeles</td>\n",
       "      <td>1</td>\n",
       "    </tr>\n",
       "    <tr>\n",
       "      <th>3</th>\n",
       "      <td>New York</td>\n",
       "      <td>5</td>\n",
       "    </tr>\n",
       "  </tbody>\n",
       "</table>\n",
       "</div>"
      ],
      "text/plain": [
       "      Location  Quantity\n",
       "0      Chicago         4\n",
       "1      Houston         2\n",
       "2  Los Angeles         1\n",
       "3     New York         5"
      ]
     },
     "execution_count": 57,
     "metadata": {},
     "output_type": "execute_result"
    }
   ],
   "source": [
    "location_grouped = merged_df.groupby('Location')['Quantity'].sum().reset_index()\n",
    "location_grouped"
   ]
  },
  {
   "cell_type": "code",
   "execution_count": 58,
   "id": "6fb00894-b4b1-4880-bd71-9f5f9f558b70",
   "metadata": {},
   "outputs": [
    {
     "data": {
      "text/plain": [
       "CustomerID\n",
       "101    2\n",
       "102    1\n",
       "103    1\n",
       "104    1\n",
       "Name: count, dtype: int64"
      ]
     },
     "execution_count": 58,
     "metadata": {},
     "output_type": "execute_result"
    }
   ],
   "source": [
    "customer_order_counts = orders['CustomerID'].value_counts()\n",
    "customer_order_counts"
   ]
  },
  {
   "cell_type": "code",
   "execution_count": 59,
   "id": "3eff90ae-20f0-413e-b602-ee8126d63c78",
   "metadata": {},
   "outputs": [
    {
     "data": {
      "text/plain": [
       "101"
      ]
     },
     "execution_count": 59,
     "metadata": {},
     "output_type": "execute_result"
    }
   ],
   "source": [
    "top_customer_id = customer_order_counts.idxmax()\n",
    "top_customer_id"
   ]
  },
  {
   "cell_type": "code",
   "execution_count": 60,
   "id": "4e96dbd1-fcf1-4580-91ef-37e2b987543b",
   "metadata": {},
   "outputs": [
    {
     "data": {
      "text/plain": [
       "'Alice'"
      ]
     },
     "execution_count": 60,
     "metadata": {},
     "output_type": "execute_result"
    }
   ],
   "source": [
    "top_customer_name = customers[customers['CustomerID'] == top_customer_id]['Name'].values[0]\n",
    "top_customer_name"
   ]
  },
  {
   "cell_type": "code",
   "execution_count": 61,
   "id": "0bb920d4-8011-44f7-8e0e-7c3825f6ae3a",
   "metadata": {},
   "outputs": [
    {
     "data": {
      "text/html": [
       "<div>\n",
       "<style scoped>\n",
       "    .dataframe tbody tr th:only-of-type {\n",
       "        vertical-align: middle;\n",
       "    }\n",
       "\n",
       "    .dataframe tbody tr th {\n",
       "        vertical-align: top;\n",
       "    }\n",
       "\n",
       "    .dataframe thead th {\n",
       "        text-align: right;\n",
       "    }\n",
       "</style>\n",
       "<table border=\"1\" class=\"dataframe\">\n",
       "  <thead>\n",
       "    <tr style=\"text-align: right;\">\n",
       "      <th></th>\n",
       "      <th>OrderID</th>\n",
       "      <th>CustomerID</th>\n",
       "      <th>Product</th>\n",
       "      <th>Quantity</th>\n",
       "      <th>Name</th>\n",
       "      <th>Location</th>\n",
       "      <th>Total_Quantity</th>\n",
       "    </tr>\n",
       "  </thead>\n",
       "  <tbody>\n",
       "    <tr>\n",
       "      <th>0</th>\n",
       "      <td>1</td>\n",
       "      <td>101</td>\n",
       "      <td>A</td>\n",
       "      <td>2</td>\n",
       "      <td>Alice</td>\n",
       "      <td>New York</td>\n",
       "      <td>2</td>\n",
       "    </tr>\n",
       "    <tr>\n",
       "      <th>1</th>\n",
       "      <td>5</td>\n",
       "      <td>101</td>\n",
       "      <td>B</td>\n",
       "      <td>3</td>\n",
       "      <td>Alice</td>\n",
       "      <td>New York</td>\n",
       "      <td>3</td>\n",
       "    </tr>\n",
       "    <tr>\n",
       "      <th>2</th>\n",
       "      <td>2</td>\n",
       "      <td>102</td>\n",
       "      <td>B</td>\n",
       "      <td>1</td>\n",
       "      <td>Bob</td>\n",
       "      <td>Los Angeles</td>\n",
       "      <td>4</td>\n",
       "    </tr>\n",
       "    <tr>\n",
       "      <th>3</th>\n",
       "      <td>3</td>\n",
       "      <td>103</td>\n",
       "      <td>A</td>\n",
       "      <td>4</td>\n",
       "      <td>Charlie</td>\n",
       "      <td>Chicago</td>\n",
       "      <td>6</td>\n",
       "    </tr>\n",
       "    <tr>\n",
       "      <th>4</th>\n",
       "      <td>4</td>\n",
       "      <td>104</td>\n",
       "      <td>C</td>\n",
       "      <td>2</td>\n",
       "      <td>David</td>\n",
       "      <td>Houston</td>\n",
       "      <td>2</td>\n",
       "    </tr>\n",
       "  </tbody>\n",
       "</table>\n",
       "</div>"
      ],
      "text/plain": [
       "   OrderID  CustomerID Product  Quantity     Name     Location  Total_Quantity\n",
       "0        1         101       A         2    Alice     New York               2\n",
       "1        5         101       B         3    Alice     New York               3\n",
       "2        2         102       B         1      Bob  Los Angeles               4\n",
       "3        3         103       A         4  Charlie      Chicago               6\n",
       "4        4         104       C         2    David      Houston               2"
      ]
     },
     "execution_count": 61,
     "metadata": {},
     "output_type": "execute_result"
    }
   ],
   "source": [
    "merged_df['Total_Quantity'] = merged_df.groupby('Product')['Quantity'].cumsum()\n",
    "merged_df"
   ]
  },
  {
   "cell_type": "code",
   "execution_count": 62,
   "id": "a0d932da-43da-40a9-a4d4-4bc8e7e93f28",
   "metadata": {},
   "outputs": [
    {
     "data": {
      "text/html": [
       "<div>\n",
       "<style scoped>\n",
       "    .dataframe tbody tr th:only-of-type {\n",
       "        vertical-align: middle;\n",
       "    }\n",
       "\n",
       "    .dataframe tbody tr th {\n",
       "        vertical-align: top;\n",
       "    }\n",
       "\n",
       "    .dataframe thead th {\n",
       "        text-align: right;\n",
       "    }\n",
       "</style>\n",
       "<table border=\"1\" class=\"dataframe\">\n",
       "  <thead>\n",
       "    <tr style=\"text-align: right;\">\n",
       "      <th></th>\n",
       "      <th>OrderID</th>\n",
       "      <th>CustomerID</th>\n",
       "      <th>Product</th>\n",
       "      <th>Quantity</th>\n",
       "      <th>Name</th>\n",
       "      <th>Location</th>\n",
       "      <th>Total_Quantity</th>\n",
       "    </tr>\n",
       "  </thead>\n",
       "  <tbody>\n",
       "    <tr>\n",
       "      <th>0</th>\n",
       "      <td>1</td>\n",
       "      <td>101</td>\n",
       "      <td>A</td>\n",
       "      <td>2</td>\n",
       "      <td>Alice</td>\n",
       "      <td>New York</td>\n",
       "      <td>2</td>\n",
       "    </tr>\n",
       "    <tr>\n",
       "      <th>1</th>\n",
       "      <td>5</td>\n",
       "      <td>101</td>\n",
       "      <td>B</td>\n",
       "      <td>3</td>\n",
       "      <td>Alice</td>\n",
       "      <td>New York</td>\n",
       "      <td>3</td>\n",
       "    </tr>\n",
       "    <tr>\n",
       "      <th>2</th>\n",
       "      <td>2</td>\n",
       "      <td>102</td>\n",
       "      <td>B</td>\n",
       "      <td>1</td>\n",
       "      <td>Bob</td>\n",
       "      <td>Los Angeles</td>\n",
       "      <td>4</td>\n",
       "    </tr>\n",
       "    <tr>\n",
       "      <th>3</th>\n",
       "      <td>3</td>\n",
       "      <td>103</td>\n",
       "      <td>A</td>\n",
       "      <td>4</td>\n",
       "      <td>Charlie</td>\n",
       "      <td>Chicago</td>\n",
       "      <td>6</td>\n",
       "    </tr>\n",
       "  </tbody>\n",
       "</table>\n",
       "</div>"
      ],
      "text/plain": [
       "   OrderID  CustomerID Product  Quantity     Name     Location  Total_Quantity\n",
       "0        1         101       A         2    Alice     New York               2\n",
       "1        5         101       B         3    Alice     New York               3\n",
       "2        2         102       B         1      Bob  Los Angeles               4\n",
       "3        3         103       A         4  Charlie      Chicago               6"
      ]
     },
     "execution_count": 62,
     "metadata": {},
     "output_type": "execute_result"
    }
   ],
   "source": [
    "filtered_df = merged_df[merged_df['Product'].isin(['A', 'B'])]\n",
    "filtered_df"
   ]
  },
  {
   "cell_type": "code",
   "execution_count": null,
   "id": "4c66538a-b77e-4c03-a50d-deb97be61d79",
   "metadata": {},
   "outputs": [],
   "source": []
  },
  {
   "cell_type": "code",
   "execution_count": null,
   "id": "533bca97-0633-423a-aef5-a599fb6ee7fb",
   "metadata": {
    "editable": true,
    "slideshow": {
     "slide_type": ""
    },
    "tags": []
   },
   "outputs": [],
   "source": []
  }
 ],
 "metadata": {
  "kernelspec": {
   "display_name": "anaconda-panel-2023.05-py310",
   "language": "python",
   "name": "conda-env-anaconda-panel-2023.05-py310-py"
  },
  "language_info": {
   "codemirror_mode": {
    "name": "ipython",
    "version": 3
   },
   "file_extension": ".py",
   "mimetype": "text/x-python",
   "name": "python",
   "nbconvert_exporter": "python",
   "pygments_lexer": "ipython3",
   "version": "3.11.5"
  }
 },
 "nbformat": 4,
 "nbformat_minor": 5
}
